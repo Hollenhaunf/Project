{
 "cells": [
  {
   "cell_type": "code",
   "execution_count": 4,
   "id": "ea0d5cf9-de95-4d5d-92ee-a8955d067a02",
   "metadata": {},
   "outputs": [],
   "source": [
    "import pandas as pd"
   ]
  },
  {
   "cell_type": "code",
   "execution_count": 6,
   "id": "ca53b39e-9bfc-4e8f-bd86-8009106ae0f8",
   "metadata": {},
   "outputs": [
    {
     "data": {
      "text/html": [
       "<div>\n",
       "<style scoped>\n",
       "    .dataframe tbody tr th:only-of-type {\n",
       "        vertical-align: middle;\n",
       "    }\n",
       "\n",
       "    .dataframe tbody tr th {\n",
       "        vertical-align: top;\n",
       "    }\n",
       "\n",
       "    .dataframe thead th {\n",
       "        text-align: right;\n",
       "    }\n",
       "</style>\n",
       "<table border=\"1\" class=\"dataframe\">\n",
       "  <thead>\n",
       "    <tr style=\"text-align: right;\">\n",
       "      <th></th>\n",
       "      <th>date</th>\n",
       "      <th>price</th>\n",
       "      <th>level</th>\n",
       "      <th>levels</th>\n",
       "      <th>rooms</th>\n",
       "      <th>area</th>\n",
       "      <th>kitchen_area</th>\n",
       "      <th>geo_lat</th>\n",
       "      <th>geo_lon</th>\n",
       "      <th>building_type</th>\n",
       "      <th>object_type</th>\n",
       "      <th>postal_code</th>\n",
       "      <th>street_id</th>\n",
       "      <th>id_region</th>\n",
       "      <th>house_id</th>\n",
       "    </tr>\n",
       "  </thead>\n",
       "  <tbody>\n",
       "    <tr>\n",
       "      <th>0</th>\n",
       "      <td>2021-01-01</td>\n",
       "      <td>2451300</td>\n",
       "      <td>15</td>\n",
       "      <td>31</td>\n",
       "      <td>1</td>\n",
       "      <td>30.3</td>\n",
       "      <td>0.0</td>\n",
       "      <td>56.780112</td>\n",
       "      <td>60.699355</td>\n",
       "      <td>0</td>\n",
       "      <td>2</td>\n",
       "      <td>620000.0</td>\n",
       "      <td>NaN</td>\n",
       "      <td>66</td>\n",
       "      <td>1632918.0</td>\n",
       "    </tr>\n",
       "    <tr>\n",
       "      <th>1</th>\n",
       "      <td>2021-01-01</td>\n",
       "      <td>1450000</td>\n",
       "      <td>5</td>\n",
       "      <td>5</td>\n",
       "      <td>1</td>\n",
       "      <td>33.0</td>\n",
       "      <td>6.0</td>\n",
       "      <td>44.608154</td>\n",
       "      <td>40.138381</td>\n",
       "      <td>0</td>\n",
       "      <td>0</td>\n",
       "      <td>385000.0</td>\n",
       "      <td>NaN</td>\n",
       "      <td>1</td>\n",
       "      <td>NaN</td>\n",
       "    </tr>\n",
       "    <tr>\n",
       "      <th>2</th>\n",
       "      <td>2021-01-01</td>\n",
       "      <td>10700000</td>\n",
       "      <td>4</td>\n",
       "      <td>13</td>\n",
       "      <td>3</td>\n",
       "      <td>85.0</td>\n",
       "      <td>12.0</td>\n",
       "      <td>55.540060</td>\n",
       "      <td>37.725112</td>\n",
       "      <td>3</td>\n",
       "      <td>0</td>\n",
       "      <td>142701.0</td>\n",
       "      <td>242543.0</td>\n",
       "      <td>50</td>\n",
       "      <td>681306.0</td>\n",
       "    </tr>\n",
       "    <tr>\n",
       "      <th>3</th>\n",
       "      <td>2021-01-01</td>\n",
       "      <td>3100000</td>\n",
       "      <td>3</td>\n",
       "      <td>5</td>\n",
       "      <td>3</td>\n",
       "      <td>82.0</td>\n",
       "      <td>9.0</td>\n",
       "      <td>44.608154</td>\n",
       "      <td>40.138381</td>\n",
       "      <td>0</td>\n",
       "      <td>0</td>\n",
       "      <td>385000.0</td>\n",
       "      <td>NaN</td>\n",
       "      <td>1</td>\n",
       "      <td>NaN</td>\n",
       "    </tr>\n",
       "    <tr>\n",
       "      <th>4</th>\n",
       "      <td>2021-01-01</td>\n",
       "      <td>2500000</td>\n",
       "      <td>2</td>\n",
       "      <td>3</td>\n",
       "      <td>1</td>\n",
       "      <td>30.0</td>\n",
       "      <td>9.0</td>\n",
       "      <td>44.738685</td>\n",
       "      <td>37.713668</td>\n",
       "      <td>3</td>\n",
       "      <td>2</td>\n",
       "      <td>353960.0</td>\n",
       "      <td>439378.0</td>\n",
       "      <td>23</td>\n",
       "      <td>1730985.0</td>\n",
       "    </tr>\n",
       "  </tbody>\n",
       "</table>\n",
       "</div>"
      ],
      "text/plain": [
       "         date     price  level  levels  rooms  area  kitchen_area    geo_lat  \\\n",
       "0  2021-01-01   2451300     15      31      1  30.3           0.0  56.780112   \n",
       "1  2021-01-01   1450000      5       5      1  33.0           6.0  44.608154   \n",
       "2  2021-01-01  10700000      4      13      3  85.0          12.0  55.540060   \n",
       "3  2021-01-01   3100000      3       5      3  82.0           9.0  44.608154   \n",
       "4  2021-01-01   2500000      2       3      1  30.0           9.0  44.738685   \n",
       "\n",
       "     geo_lon  building_type  object_type  postal_code  street_id  id_region  \\\n",
       "0  60.699355              0            2     620000.0        NaN         66   \n",
       "1  40.138381              0            0     385000.0        NaN          1   \n",
       "2  37.725112              3            0     142701.0   242543.0         50   \n",
       "3  40.138381              0            0     385000.0        NaN          1   \n",
       "4  37.713668              3            2     353960.0   439378.0         23   \n",
       "\n",
       "    house_id  \n",
       "0  1632918.0  \n",
       "1        NaN  \n",
       "2   681306.0  \n",
       "3        NaN  \n",
       "4  1730985.0  "
      ]
     },
     "execution_count": 6,
     "metadata": {},
     "output_type": "execute_result"
    }
   ],
   "source": [
    "df = pd.read_csv('C:/csv_files/archive/input_data.csv')\n",
    "df.head()"
   ]
  },
  {
   "cell_type": "code",
   "execution_count": 8,
   "id": "fcb7f98a-eba8-4202-a7cd-a2949dd0863c",
   "metadata": {},
   "outputs": [
    {
     "data": {
      "text/html": [
       "<div>\n",
       "<style scoped>\n",
       "    .dataframe tbody tr th:only-of-type {\n",
       "        vertical-align: middle;\n",
       "    }\n",
       "\n",
       "    .dataframe tbody tr th {\n",
       "        vertical-align: top;\n",
       "    }\n",
       "\n",
       "    .dataframe thead th {\n",
       "        text-align: right;\n",
       "    }\n",
       "</style>\n",
       "<table border=\"1\" class=\"dataframe\">\n",
       "  <thead>\n",
       "    <tr style=\"text-align: right;\">\n",
       "      <th></th>\n",
       "      <th>date</th>\n",
       "      <th>price</th>\n",
       "      <th>level</th>\n",
       "      <th>levels</th>\n",
       "      <th>rooms</th>\n",
       "      <th>area</th>\n",
       "      <th>kitchen_area</th>\n",
       "      <th>id_region</th>\n",
       "    </tr>\n",
       "  </thead>\n",
       "  <tbody>\n",
       "    <tr>\n",
       "      <th>0</th>\n",
       "      <td>2021-01-01</td>\n",
       "      <td>2451300</td>\n",
       "      <td>15</td>\n",
       "      <td>31</td>\n",
       "      <td>1</td>\n",
       "      <td>30.3</td>\n",
       "      <td>0.0</td>\n",
       "      <td>66</td>\n",
       "    </tr>\n",
       "    <tr>\n",
       "      <th>1</th>\n",
       "      <td>2021-01-01</td>\n",
       "      <td>1450000</td>\n",
       "      <td>5</td>\n",
       "      <td>5</td>\n",
       "      <td>1</td>\n",
       "      <td>33.0</td>\n",
       "      <td>6.0</td>\n",
       "      <td>1</td>\n",
       "    </tr>\n",
       "    <tr>\n",
       "      <th>2</th>\n",
       "      <td>2021-01-01</td>\n",
       "      <td>10700000</td>\n",
       "      <td>4</td>\n",
       "      <td>13</td>\n",
       "      <td>3</td>\n",
       "      <td>85.0</td>\n",
       "      <td>12.0</td>\n",
       "      <td>50</td>\n",
       "    </tr>\n",
       "    <tr>\n",
       "      <th>3</th>\n",
       "      <td>2021-01-01</td>\n",
       "      <td>3100000</td>\n",
       "      <td>3</td>\n",
       "      <td>5</td>\n",
       "      <td>3</td>\n",
       "      <td>82.0</td>\n",
       "      <td>9.0</td>\n",
       "      <td>1</td>\n",
       "    </tr>\n",
       "    <tr>\n",
       "      <th>4</th>\n",
       "      <td>2021-01-01</td>\n",
       "      <td>2500000</td>\n",
       "      <td>2</td>\n",
       "      <td>3</td>\n",
       "      <td>1</td>\n",
       "      <td>30.0</td>\n",
       "      <td>9.0</td>\n",
       "      <td>23</td>\n",
       "    </tr>\n",
       "  </tbody>\n",
       "</table>\n",
       "</div>"
      ],
      "text/plain": [
       "         date     price  level  levels  rooms  area  kitchen_area  id_region\n",
       "0  2021-01-01   2451300     15      31      1  30.3           0.0         66\n",
       "1  2021-01-01   1450000      5       5      1  33.0           6.0          1\n",
       "2  2021-01-01  10700000      4      13      3  85.0          12.0         50\n",
       "3  2021-01-01   3100000      3       5      3  82.0           9.0          1\n",
       "4  2021-01-01   2500000      2       3      1  30.0           9.0         23"
      ]
     },
     "execution_count": 8,
     "metadata": {},
     "output_type": "execute_result"
    }
   ],
   "source": [
    "df = df.drop(['geo_lat', \n",
    "              'geo_lon', \n",
    "              'building_type', \n",
    "              'object_type', \n",
    "              'postal_code', \n",
    "              'street_id',\n",
    "              'house_id'], axis=1)\n",
    "df.head(5)"
   ]
  },
  {
   "cell_type": "code",
   "execution_count": 10,
   "id": "2620d888-d575-4017-b307-8314a7308655",
   "metadata": {},
   "outputs": [
    {
     "name": "stdout",
     "output_type": "stream",
     "text": [
      "number of duplicate rows:  (1730, 8)\n"
     ]
    }
   ],
   "source": [
    "duplicate_rows_df = df[df.duplicated()]\n",
    "print(\"number of duplicate rows: \", duplicate_rows_df.shape)"
   ]
  },
  {
   "cell_type": "code",
   "execution_count": 12,
   "id": "5eb94150-866f-4594-a415-26b3699eb397",
   "metadata": {},
   "outputs": [
    {
     "data": {
      "text/plain": [
       "date            100000\n",
       "price           100000\n",
       "level           100000\n",
       "levels          100000\n",
       "rooms           100000\n",
       "area            100000\n",
       "kitchen_area    100000\n",
       "id_region       100000\n",
       "dtype: int64"
      ]
     },
     "execution_count": 12,
     "metadata": {},
     "output_type": "execute_result"
    }
   ],
   "source": [
    "df.count()"
   ]
  },
  {
   "cell_type": "code",
   "execution_count": 14,
   "id": "055bd6b6-dd48-4bde-b547-9f91c36a4c6b",
   "metadata": {},
   "outputs": [
    {
     "data": {
      "text/html": [
       "<div>\n",
       "<style scoped>\n",
       "    .dataframe tbody tr th:only-of-type {\n",
       "        vertical-align: middle;\n",
       "    }\n",
       "\n",
       "    .dataframe tbody tr th {\n",
       "        vertical-align: top;\n",
       "    }\n",
       "\n",
       "    .dataframe thead th {\n",
       "        text-align: right;\n",
       "    }\n",
       "</style>\n",
       "<table border=\"1\" class=\"dataframe\">\n",
       "  <thead>\n",
       "    <tr style=\"text-align: right;\">\n",
       "      <th></th>\n",
       "      <th>date</th>\n",
       "      <th>price</th>\n",
       "      <th>level</th>\n",
       "      <th>levels</th>\n",
       "      <th>rooms</th>\n",
       "      <th>area</th>\n",
       "      <th>kitchen_area</th>\n",
       "      <th>id_region</th>\n",
       "    </tr>\n",
       "  </thead>\n",
       "  <tbody>\n",
       "    <tr>\n",
       "      <th>0</th>\n",
       "      <td>2021-01-01</td>\n",
       "      <td>2451300</td>\n",
       "      <td>15</td>\n",
       "      <td>31</td>\n",
       "      <td>1</td>\n",
       "      <td>30.3</td>\n",
       "      <td>0.0</td>\n",
       "      <td>66</td>\n",
       "    </tr>\n",
       "    <tr>\n",
       "      <th>1</th>\n",
       "      <td>2021-01-01</td>\n",
       "      <td>1450000</td>\n",
       "      <td>5</td>\n",
       "      <td>5</td>\n",
       "      <td>1</td>\n",
       "      <td>33.0</td>\n",
       "      <td>6.0</td>\n",
       "      <td>1</td>\n",
       "    </tr>\n",
       "    <tr>\n",
       "      <th>2</th>\n",
       "      <td>2021-01-01</td>\n",
       "      <td>10700000</td>\n",
       "      <td>4</td>\n",
       "      <td>13</td>\n",
       "      <td>3</td>\n",
       "      <td>85.0</td>\n",
       "      <td>12.0</td>\n",
       "      <td>50</td>\n",
       "    </tr>\n",
       "    <tr>\n",
       "      <th>3</th>\n",
       "      <td>2021-01-01</td>\n",
       "      <td>3100000</td>\n",
       "      <td>3</td>\n",
       "      <td>5</td>\n",
       "      <td>3</td>\n",
       "      <td>82.0</td>\n",
       "      <td>9.0</td>\n",
       "      <td>1</td>\n",
       "    </tr>\n",
       "    <tr>\n",
       "      <th>4</th>\n",
       "      <td>2021-01-01</td>\n",
       "      <td>2500000</td>\n",
       "      <td>2</td>\n",
       "      <td>3</td>\n",
       "      <td>1</td>\n",
       "      <td>30.0</td>\n",
       "      <td>9.0</td>\n",
       "      <td>23</td>\n",
       "    </tr>\n",
       "  </tbody>\n",
       "</table>\n",
       "</div>"
      ],
      "text/plain": [
       "         date     price  level  levels  rooms  area  kitchen_area  id_region\n",
       "0  2021-01-01   2451300     15      31      1  30.3           0.0         66\n",
       "1  2021-01-01   1450000      5       5      1  33.0           6.0          1\n",
       "2  2021-01-01  10700000      4      13      3  85.0          12.0         50\n",
       "3  2021-01-01   3100000      3       5      3  82.0           9.0          1\n",
       "4  2021-01-01   2500000      2       3      1  30.0           9.0         23"
      ]
     },
     "execution_count": 14,
     "metadata": {},
     "output_type": "execute_result"
    }
   ],
   "source": [
    "df = df.drop_duplicates()\n",
    "df.head()"
   ]
  },
  {
   "cell_type": "code",
   "execution_count": 16,
   "id": "ba753797-e3d3-45af-92da-8b079ef9bb4d",
   "metadata": {},
   "outputs": [
    {
     "data": {
      "text/plain": [
       "date            98270\n",
       "price           98270\n",
       "level           98270\n",
       "levels          98270\n",
       "rooms           98270\n",
       "area            98270\n",
       "kitchen_area    98270\n",
       "id_region       98270\n",
       "dtype: int64"
      ]
     },
     "execution_count": 16,
     "metadata": {},
     "output_type": "execute_result"
    }
   ],
   "source": [
    "df.count()"
   ]
  },
  {
   "cell_type": "code",
   "execution_count": 18,
   "id": "9df355b1-64ef-44eb-954f-da323660e018",
   "metadata": {},
   "outputs": [
    {
     "name": "stdout",
     "output_type": "stream",
     "text": [
      "date            0\n",
      "price           0\n",
      "level           0\n",
      "levels          0\n",
      "rooms           0\n",
      "area            0\n",
      "kitchen_area    0\n",
      "id_region       0\n",
      "dtype: int64\n"
     ]
    }
   ],
   "source": [
    "print(df.isnull().sum())"
   ]
  },
  {
   "cell_type": "code",
   "execution_count": 20,
   "id": "13f8988b-ba59-480e-8628-456ac7d41449",
   "metadata": {},
   "outputs": [
    {
     "data": {
      "text/plain": [
       "date            98270\n",
       "price           98270\n",
       "level           98270\n",
       "levels          98270\n",
       "rooms           98270\n",
       "area            98270\n",
       "kitchen_area    98270\n",
       "id_region       98270\n",
       "dtype: int64"
      ]
     },
     "execution_count": 20,
     "metadata": {},
     "output_type": "execute_result"
    }
   ],
   "source": [
    "df_cleaned = df.dropna()\n",
    "df.count()"
   ]
  },
  {
   "cell_type": "code",
   "execution_count": 22,
   "id": "1a4c63f0-c806-4936-a7b8-2a2cab91d5fc",
   "metadata": {},
   "outputs": [
    {
     "name": "stdout",
     "output_type": "stream",
     "text": [
      "<class 'pandas.core.frame.DataFrame'>\n",
      "Index: 98270 entries, 0 to 99999\n",
      "Data columns (total 8 columns):\n",
      " #   Column        Non-Null Count  Dtype  \n",
      "---  ------        --------------  -----  \n",
      " 0   date          98270 non-null  object \n",
      " 1   price         98270 non-null  int64  \n",
      " 2   level         98270 non-null  int64  \n",
      " 3   levels        98270 non-null  int64  \n",
      " 4   rooms         98270 non-null  int64  \n",
      " 5   area          98270 non-null  float64\n",
      " 6   kitchen_area  98270 non-null  float64\n",
      " 7   id_region     98270 non-null  int64  \n",
      "dtypes: float64(2), int64(5), object(1)\n",
      "memory usage: 6.7+ MB\n"
     ]
    }
   ],
   "source": [
    "df_cleaned.loc[:, 'price'] = pd.to_numeric(df_cleaned['price'], errors='coerce')\n",
    "df_cleaned.loc[:, 'area'] = pd.to_numeric(df_cleaned['area'], errors='coerce')\n",
    "df_cleaned.loc[:, 'rooms'] = pd.to_numeric(df_cleaned['rooms'], errors='coerce') \n",
    "df_cleaned.info()"
   ]
  },
  {
   "cell_type": "code",
   "execution_count": 24,
   "id": "6f07af2a-92f1-45e6-ac56-88ab2ad30e02",
   "metadata": {},
   "outputs": [
    {
     "name": "stdout",
     "output_type": "stream",
     "text": [
      "3500000.0\n"
     ]
    }
   ],
   "source": [
    "Q1 = df_cleaned['price'].quantile(0.25)\n",
    "Q3 = df_cleaned['price'].quantile(0.75)\n",
    "IQR = Q3 - Q1\n",
    "print(IQR)"
   ]
  },
  {
   "cell_type": "code",
   "execution_count": 26,
   "id": "f46a5a6f-43ac-40b6-a4ac-055647f20d97",
   "metadata": {},
   "outputs": [],
   "source": [
    "lower_bound = Q1 - 1.5 * IQR\n",
    "upper_bound = Q3 + 1.5 * IQR"
   ]
  },
  {
   "cell_type": "code",
   "execution_count": 28,
   "id": "23498734-ceca-40de-96a6-c12352e65c84",
   "metadata": {},
   "outputs": [],
   "source": [
    "outliers = df_cleaned[(df_cleaned['price'] < lower_bound) | (df_cleaned['price'] > upper_bound)]"
   ]
  },
  {
   "cell_type": "code",
   "execution_count": 30,
   "id": "4eba2d72-01ea-4229-a654-f29b676ade2d",
   "metadata": {},
   "outputs": [
    {
     "name": "stdout",
     "output_type": "stream",
     "text": [
      "Количество выбросов: 9043\n"
     ]
    },
    {
     "data": {
      "text/html": [
       "<div>\n",
       "<style scoped>\n",
       "    .dataframe tbody tr th:only-of-type {\n",
       "        vertical-align: middle;\n",
       "    }\n",
       "\n",
       "    .dataframe tbody tr th {\n",
       "        vertical-align: top;\n",
       "    }\n",
       "\n",
       "    .dataframe thead th {\n",
       "        text-align: right;\n",
       "    }\n",
       "</style>\n",
       "<table border=\"1\" class=\"dataframe\">\n",
       "  <thead>\n",
       "    <tr style=\"text-align: right;\">\n",
       "      <th></th>\n",
       "      <th>date</th>\n",
       "      <th>price</th>\n",
       "      <th>level</th>\n",
       "      <th>levels</th>\n",
       "      <th>rooms</th>\n",
       "      <th>area</th>\n",
       "      <th>kitchen_area</th>\n",
       "      <th>id_region</th>\n",
       "    </tr>\n",
       "  </thead>\n",
       "  <tbody>\n",
       "    <tr>\n",
       "      <th>14</th>\n",
       "      <td>2021-01-01</td>\n",
       "      <td>11100000</td>\n",
       "      <td>3</td>\n",
       "      <td>17</td>\n",
       "      <td>2</td>\n",
       "      <td>62.4</td>\n",
       "      <td>9.7</td>\n",
       "      <td>50</td>\n",
       "    </tr>\n",
       "    <tr>\n",
       "      <th>36</th>\n",
       "      <td>2021-01-01</td>\n",
       "      <td>30000000</td>\n",
       "      <td>11</td>\n",
       "      <td>22</td>\n",
       "      <td>3</td>\n",
       "      <td>109.0</td>\n",
       "      <td>15.5</td>\n",
       "      <td>77</td>\n",
       "    </tr>\n",
       "    <tr>\n",
       "      <th>38</th>\n",
       "      <td>2021-01-01</td>\n",
       "      <td>22112640</td>\n",
       "      <td>8</td>\n",
       "      <td>29</td>\n",
       "      <td>3</td>\n",
       "      <td>69.8</td>\n",
       "      <td>11.6</td>\n",
       "      <td>77</td>\n",
       "    </tr>\n",
       "    <tr>\n",
       "      <th>67</th>\n",
       "      <td>2021-01-01</td>\n",
       "      <td>11340000</td>\n",
       "      <td>2</td>\n",
       "      <td>5</td>\n",
       "      <td>3</td>\n",
       "      <td>130.0</td>\n",
       "      <td>16.7</td>\n",
       "      <td>2</td>\n",
       "    </tr>\n",
       "    <tr>\n",
       "      <th>101</th>\n",
       "      <td>2021-01-01</td>\n",
       "      <td>40336132</td>\n",
       "      <td>10</td>\n",
       "      <td>21</td>\n",
       "      <td>2</td>\n",
       "      <td>120.0</td>\n",
       "      <td>20.0</td>\n",
       "      <td>23</td>\n",
       "    </tr>\n",
       "  </tbody>\n",
       "</table>\n",
       "</div>"
      ],
      "text/plain": [
       "           date     price  level  levels  rooms   area  kitchen_area  \\\n",
       "14   2021-01-01  11100000      3      17      2   62.4           9.7   \n",
       "36   2021-01-01  30000000     11      22      3  109.0          15.5   \n",
       "38   2021-01-01  22112640      8      29      3   69.8          11.6   \n",
       "67   2021-01-01  11340000      2       5      3  130.0          16.7   \n",
       "101  2021-01-01  40336132     10      21      2  120.0          20.0   \n",
       "\n",
       "     id_region  \n",
       "14          50  \n",
       "36          77  \n",
       "38          77  \n",
       "67           2  \n",
       "101         23  "
      ]
     },
     "execution_count": 30,
     "metadata": {},
     "output_type": "execute_result"
    }
   ],
   "source": [
    "print(f\"Количество выбросов: {outliers.shape[0]}\")\n",
    "outliers.head()"
   ]
  },
  {
   "cell_type": "code",
   "execution_count": 48,
   "id": "5e7985b8-a73b-48db-b6d9-974ff0159c90",
   "metadata": {},
   "outputs": [],
   "source": [
    "df_cleaned_no_outliers = df_cleaned[(df_cleaned['price'] >= lower_bound) & (df_cleaned['price'] <= upper_bound)]"
   ]
  },
  {
   "cell_type": "code",
   "execution_count": 52,
   "id": "50352912-d512-4a67-866e-e9f10aba012d",
   "metadata": {},
   "outputs": [
    {
     "data": {
      "text/plain": [
       "date            89227\n",
       "price           89227\n",
       "level           89227\n",
       "levels          89227\n",
       "rooms           89227\n",
       "area            89227\n",
       "kitchen_area    89227\n",
       "id_region       89227\n",
       "dtype: int64"
      ]
     },
     "execution_count": 52,
     "metadata": {},
     "output_type": "execute_result"
    }
   ],
   "source": [
    "df_cleaned_no_outliers.count()"
   ]
  }
 ],
 "metadata": {
  "kernelspec": {
   "display_name": "Python 3 (ipykernel)",
   "language": "python",
   "name": "python3"
  },
  "language_info": {
   "codemirror_mode": {
    "name": "ipython",
    "version": 3
   },
   "file_extension": ".py",
   "mimetype": "text/x-python",
   "name": "python",
   "nbconvert_exporter": "python",
   "pygments_lexer": "ipython3",
   "version": "3.12.4"
  }
 },
 "nbformat": 4,
 "nbformat_minor": 5
}
